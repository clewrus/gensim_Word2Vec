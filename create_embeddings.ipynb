{
 "cells": [
  {
   "cell_type": "code",
   "execution_count": 1,
   "id": "ca0a691c",
   "metadata": {},
   "outputs": [],
   "source": [
    "from os import listdir\n",
    "from os.path import isfile, join"
   ]
  },
  {
   "cell_type": "code",
   "execution_count": null,
   "id": "d5bb6dbe",
   "metadata": {},
   "outputs": [],
   "source": [
    "path_to_dataset = \"../dataset\"\n",
    "dataset_files = [\n",
    "    join(path_to_dataset, path) \n",
    "    for path in listdir(path_to_dataset) \n",
    "    if isfile(join(path_to_dataset, path))\n",
    "]\n",
    "\n",
    "print( dataset_files )"
   ]
  },
  {
   "cell_type": "code",
   "execution_count": 3,
   "id": "855e7ac6",
   "metadata": {},
   "outputs": [],
   "source": [
    "from gensim.parsing.preprocessing import preprocess_string\n",
    "from pymorphy2.utils import word_splits\n",
    "from os.path import getsize\n",
    "from math import floor\n",
    "import pymorphy2\n",
    "import re\n",
    "\n",
    "class DatasetReader:\n",
    "    def __init__(self, datasetPath):\n",
    "        self._datasetPath = datasetPath\n",
    "        self._currentText = \"\"\n",
    "        self._morph = pymorphy2.MorphAnalyzer(lang='uk')\n",
    "        self._ukrLetters = re.compile(\"^[абвгґдеєжзиіїйклмнопрстуфхцчшщьюя]*$\", re.IGNORECASE)\n",
    "    \n",
    "    def __iter__(self):\n",
    "        fileSize = getsize( self._datasetPath )\n",
    "        prevProgress = 0\n",
    "        \n",
    "        with open(self._datasetPath, \"r\") as file:\n",
    "            line = file.readline()\n",
    "            while line:\n",
    "                progress = floor(100 * file.tell() / fileSize)\n",
    "                if prevProgress != progress:\n",
    "                    prevProgress = progress\n",
    "                    print(progress)\n",
    "                \n",
    "                self._currentText += line\n",
    "                if self._tryPopSentence():\n",
    "                    yield self._currentSentence\n",
    "                \n",
    "                try:\n",
    "                    line = file.readline()\n",
    "                except:\n",
    "                    line = None\n",
    "    \n",
    "    def _tryPopSentence(self):\n",
    "        sentenceEnd = self._currentText.find('.')\n",
    "        if( sentenceEnd == -1 ):\n",
    "            return False\n",
    "        \n",
    "        words = preprocess_string(self._currentText[:sentenceEnd:].replace( '\\'', '' ))\n",
    "        ukrWords = list(filter(lambda x: self._ukrLetters.search(x) , words))\n",
    "        \n",
    "        self._currentText = self._currentText[sentenceEnd+1::]\n",
    "        self._currentSentence = self.to_normal_form(ukrWords)\n",
    "        return True\n",
    "        \n",
    "    def to_normal_form(self, words_list):\n",
    "        if isinstance(words_list, str):\n",
    "            words_list = [words_list, ]\n",
    "\n",
    "        res = [\n",
    "            self._morph.parse(word)[0].normal_form\n",
    "            for word in words_list\n",
    "        ]\n",
    "\n",
    "        if len(res) == 1:\n",
    "            res = res[0]\n",
    "\n",
    "        return res\n",
    "        "
   ]
  },
  {
   "cell_type": "code",
   "execution_count": 4,
   "id": "605afa44",
   "metadata": {},
   "outputs": [],
   "source": [
    "from gensim.test.utils import common_texts\n",
    "from gensim.models import Word2Vec"
   ]
  },
  {
   "cell_type": "code",
   "execution_count": 7,
   "id": "06c68672",
   "metadata": {},
   "outputs": [],
   "source": [
    "from gensim.models.callbacks import CallbackAny2Vec\n",
    "\n",
    "class LossLogger(CallbackAny2Vec):\n",
    "    '''Output loss at each epoch'''\n",
    "    def __init__(self):\n",
    "        self.epoch = 1\n",
    "        self.prevLoss = 0\n",
    "        self.losses = []\n",
    "\n",
    "    def on_epoch_begin(self, model):\n",
    "        print(f'Epoch: {self.epoch}', end='\\t')\n",
    "\n",
    "    def on_epoch_end(self, model):\n",
    "        loss = model.get_latest_training_loss()\n",
    "        self.losses.append(loss - self.prevLoss)\n",
    "        print(f'  Loss: {loss - self.prevLoss}')\n",
    "        self.epoch += 1\n",
    "        self.prevLoss = loss"
   ]
  },
  {
   "cell_type": "code",
   "execution_count": null,
   "id": "ad031cdf",
   "metadata": {},
   "outputs": [],
   "source": [
    "dataset = DatasetReader( dataset_files[0] )\n",
    "sentences = [s for s in dataset]"
   ]
  },
  {
   "cell_type": "code",
   "execution_count": null,
   "id": "5462fe76",
   "metadata": {},
   "outputs": [],
   "source": [
    "loss_logger = LossLogger()\n",
    "model = Word2Vec(sentences=sentences, epochs=100, compute_loss=True, vector_size=100, window=5, min_count=1, workers=4, callbacks=[loss_logger])"
   ]
  },
  {
   "cell_type": "code",
   "execution_count": 12,
   "id": "f1d74d4e",
   "metadata": {},
   "outputs": [],
   "source": [
    "model.save(\"gensim_word2Vec.model\")"
   ]
  },
  {
   "cell_type": "code",
   "execution_count": null,
   "id": "fd476a7e",
   "metadata": {},
   "outputs": [],
   "source": [
    "model.wv.most_similar(\"ялинка\")\n"
   ]
  }
 ],
 "metadata": {
  "kernelspec": {
   "display_name": "Python 3",
   "language": "python",
   "name": "python3"
  },
  "language_info": {
   "codemirror_mode": {
    "name": "ipython",
    "version": 3
   },
   "file_extension": ".py",
   "mimetype": "text/x-python",
   "name": "python",
   "nbconvert_exporter": "python",
   "pygments_lexer": "ipython3",
   "version": "3.6.9"
  }
 },
 "nbformat": 4,
 "nbformat_minor": 5
}
